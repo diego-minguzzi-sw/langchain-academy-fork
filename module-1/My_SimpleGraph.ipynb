{
 "cells": [
  {
   "cell_type": "markdown",
   "id": "1193506d-04cb-4df2-9ad3-0c05391bd8a4",
   "metadata": {},
   "source": [
    "# My Simple Graph\n",
    "Example adapted from the lesson"
   ]
  },
  {
   "cell_type": "code",
   "execution_count": 86,
   "id": "538ef07c-63d3-4933-a85c-c4064ad18ed8",
   "metadata": {},
   "outputs": [],
   "source": [
    "import langgraph.graph as lgg\n",
    "import logging as log\n",
    "import pydantic\n",
    "from IPython.display import Image, display\n",
    "from typing_extensions import TypedDict"
   ]
  },
  {
   "cell_type": "code",
   "execution_count": 87,
   "id": "50307f89-bc2a-46f2-9b69-d2403ace038f",
   "metadata": {},
   "outputs": [],
   "source": [
    "log.basicConfig( level=log.DEBUG)"
   ]
  },
  {
   "cell_type": "code",
   "execution_count": 88,
   "id": "b66d4225-15d0-481c-a604-dd91d30a7839",
   "metadata": {},
   "outputs": [],
   "source": [
    "class State( pydantic.BaseModel):\n",
    "    _count: int=0\n",
    "    _graphState:str=''\n",
    "    \n",
    "    def increaseCount(self):\n",
    "        self._count +=1\n",
    "        \n",
    "    def appendGraphState(self, text:str):\n",
    "        self._graphState += ' '+ text\n",
    "        \n",
    "    @property\n",
    "    def graphState(self) -> str:\n",
    "        return self._graph_state"
   ]
  },
  {
   "cell_type": "code",
   "execution_count": 89,
   "id": "fa68ca57-61c4-474e-acfa-17581966d241",
   "metadata": {},
   "outputs": [],
   "source": [
    "NodeStart= 'Node Start'\n",
    "NodeEnd= 'Node End'"
   ]
  },
  {
   "cell_type": "code",
   "execution_count": 90,
   "id": "2fbc6b9b-cef6-4416-bd0b-54b55007631c",
   "metadata": {},
   "outputs": [],
   "source": [
    "def nodeStart( state:State) -> State:\n",
    "    log.debug('nodeStart executed.')\n",
    "    state.increaseCount()\n",
    "    state.appendGraphState('Hi!')\n",
    "    return state"
   ]
  },
  {
   "cell_type": "code",
   "execution_count": 91,
   "id": "23ecbd42-cbd6-453b-8325-540b82a75151",
   "metadata": {},
   "outputs": [],
   "source": [
    "def nodeEnd( state:State) -> State:\n",
    "    log.debug('nodeEnd executed.')\n",
    "    state.increaseCount()\n",
    "    state.appendGraphState('I am done.')\n",
    "    return state"
   ]
  },
  {
   "cell_type": "code",
   "execution_count": 92,
   "id": "dcf7794c-0134-4d1b-8b30-70daea4f342b",
   "metadata": {},
   "outputs": [
    {
     "name": "stderr",
     "output_type": "stream",
     "text": [
      "DEBUG:urllib3.connectionpool:Starting new HTTPS connection (1): mermaid.ink:443\n",
      "DEBUG:urllib3.connectionpool:https://mermaid.ink:443 \"GET /img/JSV7aW5pdDogeydmbG93Y2hhcnQnOiB7J2N1cnZlJzogJ2xpbmVhcid9fX0lJQpncmFwaCBURDsKCV9fc3RhcnRfXyhbPHA+X19zdGFydF9fPC9wPl0pOjo6Zmlyc3QKCU5vZGVfU3RhcnQoTm9kZSBTdGFydCkKCU5vZGVfRW5kKE5vZGUgRW5kKQoJX19lbmRfXyhbPHA+X19lbmRfXzwvcD5dKTo6Omxhc3QKCU5vZGVfRW5kIC0tPiBfX2VuZF9fOwoJTm9kZV9TdGFydCAtLT4gTm9kZV9FbmQ7CglfX3N0YXJ0X18gLS0+IE5vZGVfU3RhcnQ7CgljbGFzc0RlZiBkZWZhdWx0IGZpbGw6I2YyZjBmZixsaW5lLWhlaWdodDoxLjIKCWNsYXNzRGVmIGZpcnN0IGZpbGwtb3BhY2l0eTowCgljbGFzc0RlZiBsYXN0IGZpbGw6I2JmYjZmYwo=?type=png&bgColor=!white HTTP/11\" 200 8591\n"
     ]
    },
    {
     "data": {
      "image/png": "[encoded data removed]",
      "text/plain": [
       "<IPython.core.display.Image object>"
      ]
     },
     "metadata": {},
     "output_type": "display_data"
    }
   ],
   "source": [
    "builder= lgg.StateGraph(State)\n",
    "builder.add_node(NodeStart, nodeStart)\n",
    "builder.add_node(NodeEnd, nodeEnd)\n",
    "builder.add_edge( lgg.START, NodeStart)\n",
    "builder.add_edge( NodeStart, NodeEnd)\n",
    "builder.add_edge( NodeEnd, lgg.END)\n",
    "\n",
    "graph = builder.compile()\n",
    "\n",
    "display(Image( graph.get_graph().draw_mermaid_png()))"
   ]
  },
  {
   "cell_type": "code",
   "execution_count": 93,
   "id": "b3e13fd9-503d-40a7-b212-513fa5857378",
   "metadata": {},
   "outputs": [
    {
     "name": "stderr",
     "output_type": "stream",
     "text": [
      "DEBUG:root:nodeStart executed.\n",
      "DEBUG:root:nodeEnd executed.\n"
     ]
    }
   ],
   "source": [
    "initialState= State()\n",
    "finalState= graph.invoke( initialState)"
   ]
  },
  {
   "cell_type": "code",
   "execution_count": 94,
   "id": "26a55089-2481-459b-95d6-276ce039960c",
   "metadata": {},
   "outputs": [
    {
     "data": {
      "text/plain": [
       "{'_count': 1, '_graphState': ' I am done.'}"
      ]
     },
     "execution_count": 94,
     "metadata": {},
     "output_type": "execute_result"
    }
   ],
   "source": [
    "finalState"
   ]
  }
 ],
 "metadata": {
  "kernelspec": {
   "display_name": "Python 3 (ipykernel)",
   "language": "python",
   "name": "python3"
  },
  "language_info": {
   "codemirror_mode": {
    "name": "ipython",
    "version": 3
   },
   "file_extension": ".py",
   "mimetype": "text/x-python",
   "name": "python",
   "nbconvert_exporter": "python",
   "pygments_lexer": "ipython3",
   "version": "3.10.12"
  }
 },
 "nbformat": 4,
 "nbformat_minor": 5
}
